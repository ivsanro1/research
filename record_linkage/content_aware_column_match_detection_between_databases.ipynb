{
 "cells": [
  {
   "cell_type": "code",
   "execution_count": 1,
   "id": "08724f5d",
   "metadata": {},
   "outputs": [],
   "source": [
    "%load_ext autoreload\n",
    "%autoreload 2\n",
    "\n",
    "import os\n",
    "from pathlib import Path\n",
    "\n",
    "# Override/set credentials in env var\n",
    "os.environ['CWD'] = str(Path(os.getcwd()).parent)\n",
    "\n",
    "# Base paths\n",
    "cwd = Path(os.environ['CWD'])\n",
    "dir_data = cwd / 'data'\n",
    "\n",
    "\n",
    "import numpy as np\n",
    "from PIL import Image"
   ]
  },
  {
   "cell_type": "code",
   "execution_count": 164,
   "id": "6f00e1fc",
   "metadata": {},
   "outputs": [
    {
     "ename": "TypeError",
     "evalue": "Calling `.seed()` on instances is deprecated. Use the class method `Faker.seed()` instead.",
     "output_type": "error",
     "traceback": [
      "\u001b[0;31m---------------------------------------------------------------------------\u001b[0m",
      "\u001b[0;31mTypeError\u001b[0m                                 Traceback (most recent call last)",
      "\u001b[0;32m/tmp/ipykernel_59361/2277341554.py\u001b[0m in \u001b[0;36m<module>\u001b[0;34m\u001b[0m\n\u001b[1;32m      1\u001b[0m \u001b[0;32mfrom\u001b[0m \u001b[0mfaker\u001b[0m \u001b[0;32mimport\u001b[0m \u001b[0mFaker\u001b[0m\u001b[0;34m\u001b[0m\u001b[0;34m\u001b[0m\u001b[0m\n\u001b[1;32m      2\u001b[0m \u001b[0mfake\u001b[0m \u001b[0;34m=\u001b[0m \u001b[0mFaker\u001b[0m\u001b[0;34m(\u001b[0m\u001b[0;34m)\u001b[0m\u001b[0;34m\u001b[0m\u001b[0;34m\u001b[0m\u001b[0m\n\u001b[0;32m----> 3\u001b[0;31m \u001b[0mfake\u001b[0m\u001b[0;34m.\u001b[0m\u001b[0mseed\u001b[0m\u001b[0;34m(\u001b[0m\u001b[0;36m288\u001b[0m\u001b[0;34m)\u001b[0m\u001b[0;34m\u001b[0m\u001b[0;34m\u001b[0m\u001b[0m\n\u001b[0m",
      "\u001b[0;32m/usr/local/lib/python3.7/dist-packages/faker/proxy.py\u001b[0m in \u001b[0;36m__getattribute__\u001b[0;34m(self, attr)\u001b[0m\n\u001b[1;32m     91\u001b[0m                 \u001b[0;34m'Use the class method `Faker.seed()` instead.'\u001b[0m\u001b[0;34m\u001b[0m\u001b[0;34m\u001b[0m\u001b[0m\n\u001b[1;32m     92\u001b[0m             )\n\u001b[0;32m---> 93\u001b[0;31m             \u001b[0;32mraise\u001b[0m \u001b[0mTypeError\u001b[0m\u001b[0;34m(\u001b[0m\u001b[0mmsg\u001b[0m\u001b[0;34m)\u001b[0m\u001b[0;34m\u001b[0m\u001b[0;34m\u001b[0m\u001b[0m\n\u001b[0m\u001b[1;32m     94\u001b[0m         \u001b[0;32melse\u001b[0m\u001b[0;34m:\u001b[0m\u001b[0;34m\u001b[0m\u001b[0;34m\u001b[0m\u001b[0m\n\u001b[1;32m     95\u001b[0m             \u001b[0;32mreturn\u001b[0m \u001b[0msuper\u001b[0m\u001b[0;34m(\u001b[0m\u001b[0;34m)\u001b[0m\u001b[0;34m.\u001b[0m\u001b[0m__getattribute__\u001b[0m\u001b[0;34m(\u001b[0m\u001b[0mattr\u001b[0m\u001b[0;34m)\u001b[0m\u001b[0;34m\u001b[0m\u001b[0;34m\u001b[0m\u001b[0m\n",
      "\u001b[0;31mTypeError\u001b[0m: Calling `.seed()` on instances is deprecated. Use the class method `Faker.seed()` instead."
     ]
    }
   ],
   "source": [
    "from faker import Faker\n",
    "fake = Faker()\n",
    "fake.seed(288)"
   ]
  },
  {
   "cell_type": "code",
   "execution_count": 10,
   "id": "e03181bb",
   "metadata": {},
   "outputs": [],
   "source": [
    "import pandas as pd\n",
    "\n",
    "db1 = pd.DataFrame([fake.profile() for _ in range(1000)])"
   ]
  },
  {
   "cell_type": "code",
   "execution_count": 11,
   "id": "51a41cc1",
   "metadata": {},
   "outputs": [
    {
     "data": {
      "text/html": [
       "<div>\n",
       "<style scoped>\n",
       "    .dataframe tbody tr th:only-of-type {\n",
       "        vertical-align: middle;\n",
       "    }\n",
       "\n",
       "    .dataframe tbody tr th {\n",
       "        vertical-align: top;\n",
       "    }\n",
       "\n",
       "    .dataframe thead th {\n",
       "        text-align: right;\n",
       "    }\n",
       "</style>\n",
       "<table border=\"1\" class=\"dataframe\">\n",
       "  <thead>\n",
       "    <tr style=\"text-align: right;\">\n",
       "      <th></th>\n",
       "      <th>job</th>\n",
       "      <th>company</th>\n",
       "      <th>ssn</th>\n",
       "      <th>residence</th>\n",
       "      <th>current_location</th>\n",
       "      <th>blood_group</th>\n",
       "      <th>website</th>\n",
       "      <th>username</th>\n",
       "      <th>name</th>\n",
       "      <th>sex</th>\n",
       "      <th>address</th>\n",
       "      <th>mail</th>\n",
       "      <th>birthdate</th>\n",
       "    </tr>\n",
       "  </thead>\n",
       "  <tbody>\n",
       "    <tr>\n",
       "      <th>0</th>\n",
       "      <td>Heritage manager</td>\n",
       "      <td>Hatfield-Parker</td>\n",
       "      <td>130-91-1509</td>\n",
       "      <td>140 Ashley Pine\\nEast Emily, IL 70768</td>\n",
       "      <td>(33.2440415, -46.015898)</td>\n",
       "      <td>A+</td>\n",
       "      <td>[https://www.hogan-ballard.net/, http://gordon...</td>\n",
       "      <td>courtneywilliams</td>\n",
       "      <td>Jill Cunningham</td>\n",
       "      <td>F</td>\n",
       "      <td>14952 Collins Rest\\nJohnborough, OR 97825</td>\n",
       "      <td>davisanthony@gmail.com</td>\n",
       "      <td>1983-10-17</td>\n",
       "    </tr>\n",
       "    <tr>\n",
       "      <th>1</th>\n",
       "      <td>Engineer, control and instrumentation</td>\n",
       "      <td>Hodges-Hansen</td>\n",
       "      <td>036-69-7731</td>\n",
       "      <td>663 Dennis Points Apt. 485\\nPort Erin, KY 22695</td>\n",
       "      <td>(-58.085221, -168.179805)</td>\n",
       "      <td>A-</td>\n",
       "      <td>[https://smith.biz/]</td>\n",
       "      <td>tammy92</td>\n",
       "      <td>John Moreno</td>\n",
       "      <td>M</td>\n",
       "      <td>526 Brown Branch Suite 528\\nMichaelshire, FL 2...</td>\n",
       "      <td>craig71@hotmail.com</td>\n",
       "      <td>1939-01-16</td>\n",
       "    </tr>\n",
       "    <tr>\n",
       "      <th>2</th>\n",
       "      <td>Financial trader</td>\n",
       "      <td>Wilson, Sanchez and Pearson</td>\n",
       "      <td>612-63-9106</td>\n",
       "      <td>240 Charles Park\\nBelltown, SD 42039</td>\n",
       "      <td>(-14.126846, 173.073076)</td>\n",
       "      <td>AB-</td>\n",
       "      <td>[http://www.ward.com/, https://wright.com/, ht...</td>\n",
       "      <td>stephenramsey</td>\n",
       "      <td>Emily Robinson</td>\n",
       "      <td>F</td>\n",
       "      <td>13437 Hanson Loop\\nWest Suzanne, AR 61696</td>\n",
       "      <td>matthewtownsend@yahoo.com</td>\n",
       "      <td>1958-12-07</td>\n",
       "    </tr>\n",
       "    <tr>\n",
       "      <th>3</th>\n",
       "      <td>Prison officer</td>\n",
       "      <td>Grant, Brown and Graham</td>\n",
       "      <td>315-16-9661</td>\n",
       "      <td>552 John Gardens\\nRobertville, MA 22945</td>\n",
       "      <td>(57.590385, 111.096737)</td>\n",
       "      <td>A+</td>\n",
       "      <td>[http://www.house.com/, https://www.williams.c...</td>\n",
       "      <td>kjordan</td>\n",
       "      <td>Gabriella Washington</td>\n",
       "      <td>F</td>\n",
       "      <td>3454 Michelle Bridge\\nWest Jeffreyport, OK 56724</td>\n",
       "      <td>lmurphy@yahoo.com</td>\n",
       "      <td>1973-12-11</td>\n",
       "    </tr>\n",
       "    <tr>\n",
       "      <th>4</th>\n",
       "      <td>Magazine journalist</td>\n",
       "      <td>Petty, Rodriguez and Ayala</td>\n",
       "      <td>525-39-1080</td>\n",
       "      <td>PSC 5288, Box 6688\\nAPO AE 66695</td>\n",
       "      <td>(-64.725193, -161.451355)</td>\n",
       "      <td>AB-</td>\n",
       "      <td>[http://spencer-reyes.net/, https://www.summer...</td>\n",
       "      <td>juliabrown</td>\n",
       "      <td>Kevin Morales</td>\n",
       "      <td>M</td>\n",
       "      <td>USS Whitehead\\nFPO AE 94602</td>\n",
       "      <td>hamiltonjoseph@yahoo.com</td>\n",
       "      <td>1977-06-25</td>\n",
       "    </tr>\n",
       "    <tr>\n",
       "      <th>...</th>\n",
       "      <td>...</td>\n",
       "      <td>...</td>\n",
       "      <td>...</td>\n",
       "      <td>...</td>\n",
       "      <td>...</td>\n",
       "      <td>...</td>\n",
       "      <td>...</td>\n",
       "      <td>...</td>\n",
       "      <td>...</td>\n",
       "      <td>...</td>\n",
       "      <td>...</td>\n",
       "      <td>...</td>\n",
       "      <td>...</td>\n",
       "    </tr>\n",
       "    <tr>\n",
       "      <th>995</th>\n",
       "      <td>Exhibitions officer, museum/gallery</td>\n",
       "      <td>Martin PLC</td>\n",
       "      <td>118-90-9312</td>\n",
       "      <td>8719 Johnson Plains Suite 579\\nEast Davidland,...</td>\n",
       "      <td>(86.236810, -17.657013)</td>\n",
       "      <td>A+</td>\n",
       "      <td>[http://www.dixon.net/, http://www.sutton.com/...</td>\n",
       "      <td>fcarter</td>\n",
       "      <td>Casey Payne</td>\n",
       "      <td>M</td>\n",
       "      <td>002 Morgan Pass Apt. 038\\nNorth Jeanettestad, ...</td>\n",
       "      <td>amanda53@gmail.com</td>\n",
       "      <td>1981-07-15</td>\n",
       "    </tr>\n",
       "    <tr>\n",
       "      <th>996</th>\n",
       "      <td>Television camera operator</td>\n",
       "      <td>Soto, Wiley and Mason</td>\n",
       "      <td>575-02-4371</td>\n",
       "      <td>6303 Gregory Plains Apt. 724\\nMoorechester, UT...</td>\n",
       "      <td>(-50.750007, -64.671468)</td>\n",
       "      <td>B+</td>\n",
       "      <td>[https://peck.com/, https://www.jones.com/, ht...</td>\n",
       "      <td>allenanna</td>\n",
       "      <td>John Maldonado</td>\n",
       "      <td>M</td>\n",
       "      <td>293 James Neck Suite 872\\nLesterport, AL 73346</td>\n",
       "      <td>ncampbell@yahoo.com</td>\n",
       "      <td>1981-02-01</td>\n",
       "    </tr>\n",
       "    <tr>\n",
       "      <th>997</th>\n",
       "      <td>Research officer, political party</td>\n",
       "      <td>Finley-Scott</td>\n",
       "      <td>559-57-5117</td>\n",
       "      <td>303 Lewis Drives Apt. 799\\nMejiastad, OK 43406</td>\n",
       "      <td>(-3.9360115, 157.996130)</td>\n",
       "      <td>O+</td>\n",
       "      <td>[http://jackson.org/]</td>\n",
       "      <td>michaelnichols</td>\n",
       "      <td>Tyler Cole</td>\n",
       "      <td>M</td>\n",
       "      <td>8171 Hayes Mill Suite 333\\nErintown, OR 68722</td>\n",
       "      <td>ericksonolivia@yahoo.com</td>\n",
       "      <td>1906-07-18</td>\n",
       "    </tr>\n",
       "    <tr>\n",
       "      <th>998</th>\n",
       "      <td>Retail buyer</td>\n",
       "      <td>Lee PLC</td>\n",
       "      <td>301-16-1766</td>\n",
       "      <td>Unit 2356 Box 8110\\nDPO AE 58948</td>\n",
       "      <td>(-19.546836, -46.769615)</td>\n",
       "      <td>O+</td>\n",
       "      <td>[http://www.johnson-davis.com/]</td>\n",
       "      <td>andrewhenderson</td>\n",
       "      <td>Brandon Garcia</td>\n",
       "      <td>M</td>\n",
       "      <td>0412 Lori Plaza\\nMatthewfurt, NC 58123</td>\n",
       "      <td>qmclean@yahoo.com</td>\n",
       "      <td>1927-11-09</td>\n",
       "    </tr>\n",
       "    <tr>\n",
       "      <th>999</th>\n",
       "      <td>Garment/textile technologist</td>\n",
       "      <td>Wilson and Sons</td>\n",
       "      <td>698-58-6617</td>\n",
       "      <td>771 Kendra Fall Suite 151\\nLindseymouth, IA 31524</td>\n",
       "      <td>(87.9452125, -124.076063)</td>\n",
       "      <td>AB-</td>\n",
       "      <td>[http://www.smith.biz/, http://acevedo.com/, h...</td>\n",
       "      <td>kenneth62</td>\n",
       "      <td>John Krueger</td>\n",
       "      <td>M</td>\n",
       "      <td>9665 David Knoll\\nSawyerfort, AK 68171</td>\n",
       "      <td>murphysteven@hotmail.com</td>\n",
       "      <td>2020-11-27</td>\n",
       "    </tr>\n",
       "  </tbody>\n",
       "</table>\n",
       "<p>1000 rows × 13 columns</p>\n",
       "</div>"
      ],
      "text/plain": [
       "                                       job                      company  \\\n",
       "0                         Heritage manager              Hatfield-Parker   \n",
       "1    Engineer, control and instrumentation                Hodges-Hansen   \n",
       "2                         Financial trader  Wilson, Sanchez and Pearson   \n",
       "3                           Prison officer      Grant, Brown and Graham   \n",
       "4                      Magazine journalist   Petty, Rodriguez and Ayala   \n",
       "..                                     ...                          ...   \n",
       "995    Exhibitions officer, museum/gallery                   Martin PLC   \n",
       "996             Television camera operator        Soto, Wiley and Mason   \n",
       "997      Research officer, political party                 Finley-Scott   \n",
       "998                           Retail buyer                      Lee PLC   \n",
       "999           Garment/textile technologist              Wilson and Sons   \n",
       "\n",
       "             ssn                                          residence  \\\n",
       "0    130-91-1509              140 Ashley Pine\\nEast Emily, IL 70768   \n",
       "1    036-69-7731    663 Dennis Points Apt. 485\\nPort Erin, KY 22695   \n",
       "2    612-63-9106               240 Charles Park\\nBelltown, SD 42039   \n",
       "3    315-16-9661            552 John Gardens\\nRobertville, MA 22945   \n",
       "4    525-39-1080                   PSC 5288, Box 6688\\nAPO AE 66695   \n",
       "..           ...                                                ...   \n",
       "995  118-90-9312  8719 Johnson Plains Suite 579\\nEast Davidland,...   \n",
       "996  575-02-4371  6303 Gregory Plains Apt. 724\\nMoorechester, UT...   \n",
       "997  559-57-5117     303 Lewis Drives Apt. 799\\nMejiastad, OK 43406   \n",
       "998  301-16-1766                   Unit 2356 Box 8110\\nDPO AE 58948   \n",
       "999  698-58-6617  771 Kendra Fall Suite 151\\nLindseymouth, IA 31524   \n",
       "\n",
       "              current_location blood_group  \\\n",
       "0     (33.2440415, -46.015898)          A+   \n",
       "1    (-58.085221, -168.179805)          A-   \n",
       "2     (-14.126846, 173.073076)         AB-   \n",
       "3      (57.590385, 111.096737)          A+   \n",
       "4    (-64.725193, -161.451355)         AB-   \n",
       "..                         ...         ...   \n",
       "995    (86.236810, -17.657013)          A+   \n",
       "996   (-50.750007, -64.671468)          B+   \n",
       "997   (-3.9360115, 157.996130)          O+   \n",
       "998   (-19.546836, -46.769615)          O+   \n",
       "999  (87.9452125, -124.076063)         AB-   \n",
       "\n",
       "                                               website          username  \\\n",
       "0    [https://www.hogan-ballard.net/, http://gordon...  courtneywilliams   \n",
       "1                                 [https://smith.biz/]           tammy92   \n",
       "2    [http://www.ward.com/, https://wright.com/, ht...     stephenramsey   \n",
       "3    [http://www.house.com/, https://www.williams.c...           kjordan   \n",
       "4    [http://spencer-reyes.net/, https://www.summer...        juliabrown   \n",
       "..                                                 ...               ...   \n",
       "995  [http://www.dixon.net/, http://www.sutton.com/...           fcarter   \n",
       "996  [https://peck.com/, https://www.jones.com/, ht...         allenanna   \n",
       "997                              [http://jackson.org/]    michaelnichols   \n",
       "998                    [http://www.johnson-davis.com/]   andrewhenderson   \n",
       "999  [http://www.smith.biz/, http://acevedo.com/, h...         kenneth62   \n",
       "\n",
       "                     name sex  \\\n",
       "0         Jill Cunningham   F   \n",
       "1             John Moreno   M   \n",
       "2          Emily Robinson   F   \n",
       "3    Gabriella Washington   F   \n",
       "4           Kevin Morales   M   \n",
       "..                    ...  ..   \n",
       "995           Casey Payne   M   \n",
       "996        John Maldonado   M   \n",
       "997            Tyler Cole   M   \n",
       "998        Brandon Garcia   M   \n",
       "999          John Krueger   M   \n",
       "\n",
       "                                               address  \\\n",
       "0            14952 Collins Rest\\nJohnborough, OR 97825   \n",
       "1    526 Brown Branch Suite 528\\nMichaelshire, FL 2...   \n",
       "2            13437 Hanson Loop\\nWest Suzanne, AR 61696   \n",
       "3     3454 Michelle Bridge\\nWest Jeffreyport, OK 56724   \n",
       "4                          USS Whitehead\\nFPO AE 94602   \n",
       "..                                                 ...   \n",
       "995  002 Morgan Pass Apt. 038\\nNorth Jeanettestad, ...   \n",
       "996     293 James Neck Suite 872\\nLesterport, AL 73346   \n",
       "997      8171 Hayes Mill Suite 333\\nErintown, OR 68722   \n",
       "998             0412 Lori Plaza\\nMatthewfurt, NC 58123   \n",
       "999             9665 David Knoll\\nSawyerfort, AK 68171   \n",
       "\n",
       "                          mail   birthdate  \n",
       "0       davisanthony@gmail.com  1983-10-17  \n",
       "1          craig71@hotmail.com  1939-01-16  \n",
       "2    matthewtownsend@yahoo.com  1958-12-07  \n",
       "3            lmurphy@yahoo.com  1973-12-11  \n",
       "4     hamiltonjoseph@yahoo.com  1977-06-25  \n",
       "..                         ...         ...  \n",
       "995         amanda53@gmail.com  1981-07-15  \n",
       "996        ncampbell@yahoo.com  1981-02-01  \n",
       "997   ericksonolivia@yahoo.com  1906-07-18  \n",
       "998          qmclean@yahoo.com  1927-11-09  \n",
       "999   murphysteven@hotmail.com  2020-11-27  \n",
       "\n",
       "[1000 rows x 13 columns]"
      ]
     },
     "execution_count": 11,
     "metadata": {},
     "output_type": "execute_result"
    }
   ],
   "source": [
    "db1"
   ]
  },
  {
   "cell_type": "code",
   "execution_count": 49,
   "id": "6c55c947",
   "metadata": {},
   "outputs": [],
   "source": []
  },
  {
   "cell_type": "code",
   "execution_count": 31,
   "id": "bb8dc796",
   "metadata": {},
   "outputs": [],
   "source": [
    "\n"
   ]
  },
  {
   "cell_type": "code",
   "execution_count": 53,
   "id": "90c944b0",
   "metadata": {},
   "outputs": [
    {
     "name": "stderr",
     "output_type": "stream",
     "text": [
      "/usr/local/lib/python3.7/dist-packages/ipykernel_launcher.py:10: SettingWithCopyWarning: \n",
      "A value is trying to be set on a copy of a slice from a DataFrame.\n",
      "Try using .loc[row_indexer,col_indexer] = value instead\n",
      "\n",
      "See the caveats in the documentation: https://pandas.pydata.org/pandas-docs/stable/user_guide/indexing.html#returning-a-view-versus-a-copy\n",
      "  # Remove the CWD from sys.path while we load stuff.\n",
      "/usr/local/lib/python3.7/dist-packages/ipykernel_launcher.py:14: SettingWithCopyWarning: \n",
      "A value is trying to be set on a copy of a slice from a DataFrame.\n",
      "Try using .loc[row_indexer,col_indexer] = value instead\n",
      "\n",
      "See the caveats in the documentation: https://pandas.pydata.org/pandas-docs/stable/user_guide/indexing.html#returning-a-view-versus-a-copy\n",
      "  \n",
      "/usr/local/lib/python3.7/dist-packages/ipykernel_launcher.py:18: SettingWithCopyWarning: \n",
      "A value is trying to be set on a copy of a slice from a DataFrame.\n",
      "Try using .loc[row_indexer,col_indexer] = value instead\n",
      "\n",
      "See the caveats in the documentation: https://pandas.pydata.org/pandas-docs/stable/user_guide/indexing.html#returning-a-view-versus-a-copy\n"
     ]
    }
   ],
   "source": [
    "db2 = db1[['company', 'address', 'name']]\n",
    "\n",
    "\n",
    "import re\n",
    "def _split(txt):\n",
    "    return [x.strip() for x in re.split('-|\\s|and|,', txt) if x.strip() != '']\n",
    "\n",
    "# _split('Wilson, Sanchez and Pearson')\n",
    "\n",
    "db2['company'] = db2['company'].apply(lambda txt: \n",
    "    np.random.choice(_split(txt))\n",
    ")\n",
    "\n",
    "db2['name'] = db2['name'].apply(lambda txt: \n",
    "    np.random.choice(_split(txt))\n",
    ")\n",
    "\n",
    "db2['address'] = db2['address'].apply(lambda txt: \n",
    "    np.random.choice(_split(txt))\n",
    ")"
   ]
  },
  {
   "cell_type": "code",
   "execution_count": 71,
   "id": "27e5b24b",
   "metadata": {},
   "outputs": [],
   "source": [
    "import string"
   ]
  },
  {
   "cell_type": "code",
   "execution_count": null,
   "id": "4cb5388b",
   "metadata": {},
   "outputs": [],
   "source": []
  },
  {
   "cell_type": "code",
   "execution_count": 73,
   "id": "590589ae",
   "metadata": {},
   "outputs": [],
   "source": [
    "def _add_char_noise(txt, p=0.2, noise_set_chars=[c for c in string.ascii_lowercase + string.digits]):\n",
    "    txt_noise = ''\n",
    "    for c in txt:\n",
    "        if np.random.rand() < p:\n",
    "            txt_noise += np.random.choice(noise_set_chars)\n",
    "        else:\n",
    "            txt_noise += c\n",
    "    return txt_noise"
   ]
  },
  {
   "cell_type": "code",
   "execution_count": 74,
   "id": "8d22e3b0",
   "metadata": {},
   "outputs": [
    {
     "name": "stderr",
     "output_type": "stream",
     "text": [
      "/usr/local/lib/python3.7/dist-packages/ipykernel_launcher.py:1: SettingWithCopyWarning: \n",
      "A value is trying to be set on a copy of a slice from a DataFrame.\n",
      "Try using .loc[row_indexer,col_indexer] = value instead\n",
      "\n",
      "See the caveats in the documentation: https://pandas.pydata.org/pandas-docs/stable/user_guide/indexing.html#returning-a-view-versus-a-copy\n",
      "  \"\"\"Entry point for launching an IPython kernel.\n",
      "/usr/local/lib/python3.7/dist-packages/ipykernel_launcher.py:2: SettingWithCopyWarning: \n",
      "A value is trying to be set on a copy of a slice from a DataFrame.\n",
      "Try using .loc[row_indexer,col_indexer] = value instead\n",
      "\n",
      "See the caveats in the documentation: https://pandas.pydata.org/pandas-docs/stable/user_guide/indexing.html#returning-a-view-versus-a-copy\n",
      "  \n",
      "/usr/local/lib/python3.7/dist-packages/ipykernel_launcher.py:3: SettingWithCopyWarning: \n",
      "A value is trying to be set on a copy of a slice from a DataFrame.\n",
      "Try using .loc[row_indexer,col_indexer] = value instead\n",
      "\n",
      "See the caveats in the documentation: https://pandas.pydata.org/pandas-docs/stable/user_guide/indexing.html#returning-a-view-versus-a-copy\n",
      "  This is separate from the ipykernel package so we can avoid doing imports until\n"
     ]
    }
   ],
   "source": [
    "db2['company'] = db2['company'].apply(_add_char_noise)\n",
    "db2['address'] = db2['address'].apply(_add_char_noise)\n",
    "db2['name'] = db2['name'].apply(_add_char_noise)"
   ]
  },
  {
   "cell_type": "code",
   "execution_count": 78,
   "id": "11cea578",
   "metadata": {},
   "outputs": [],
   "source": [
    "db2 = db2.rename(columns={\n",
    "    'company': 'noise_cmpny',\n",
    "    'address': 'noise_addr',\n",
    "    'name': 'noise_nm'\n",
    "})"
   ]
  },
  {
   "cell_type": "code",
   "execution_count": 125,
   "id": "0a5bb2b5",
   "metadata": {},
   "outputs": [],
   "source": [
    "# missing rows + shuffle\n",
    "db2 = db2.sample(frac=0.8).reset_index(drop=True)"
   ]
  },
  {
   "cell_type": "code",
   "execution_count": null,
   "id": "97b024aa",
   "metadata": {},
   "outputs": [],
   "source": []
  },
  {
   "cell_type": "code",
   "execution_count": 86,
   "id": "a5ef752a",
   "metadata": {},
   "outputs": [
    {
     "data": {
      "text/html": [
       "<div>\n",
       "<style scoped>\n",
       "    .dataframe tbody tr th:only-of-type {\n",
       "        vertical-align: middle;\n",
       "    }\n",
       "\n",
       "    .dataframe tbody tr th {\n",
       "        vertical-align: top;\n",
       "    }\n",
       "\n",
       "    .dataframe thead th {\n",
       "        text-align: right;\n",
       "    }\n",
       "</style>\n",
       "<table border=\"1\" class=\"dataframe\">\n",
       "  <thead>\n",
       "    <tr style=\"text-align: right;\">\n",
       "      <th></th>\n",
       "      <th>noise_cmpny</th>\n",
       "      <th>noise_addr</th>\n",
       "      <th>noise_nm</th>\n",
       "    </tr>\n",
       "  </thead>\n",
       "  <tbody>\n",
       "    <tr>\n",
       "      <th>0</th>\n",
       "      <td>Hvtfimld</td>\n",
       "      <td>9782z</td>\n",
       "      <td>Cunninghal</td>\n",
       "    </tr>\n",
       "    <tr>\n",
       "      <th>1</th>\n",
       "      <td>H5w6es</td>\n",
       "      <td>Brown</td>\n",
       "      <td>Moreno</td>\n",
       "    </tr>\n",
       "    <tr>\n",
       "      <th>2</th>\n",
       "      <td>68ncqez</td>\n",
       "      <td>Hanson</td>\n",
       "      <td>Ro0inson</td>\n",
       "    </tr>\n",
       "    <tr>\n",
       "      <th>3</th>\n",
       "      <td>Brown</td>\n",
       "      <td>Minhcll7</td>\n",
       "      <td>Gaqriella</td>\n",
       "    </tr>\n",
       "    <tr>\n",
       "      <th>4</th>\n",
       "      <td>Aeala</td>\n",
       "      <td>AE</td>\n",
       "      <td>Morale7</td>\n",
       "    </tr>\n",
       "    <tr>\n",
       "      <th>...</th>\n",
       "      <td>...</td>\n",
       "      <td>...</td>\n",
       "      <td>...</td>\n",
       "    </tr>\n",
       "    <tr>\n",
       "      <th>995</th>\n",
       "      <td>Martin</td>\n",
       "      <td>00r</td>\n",
       "      <td>Casey</td>\n",
       "    </tr>\n",
       "    <tr>\n",
       "      <th>996</th>\n",
       "      <td>Wil3y</td>\n",
       "      <td>L8st5rpsrt</td>\n",
       "      <td>Maldonado</td>\n",
       "    </tr>\n",
       "    <tr>\n",
       "      <th>997</th>\n",
       "      <td>Scojt</td>\n",
       "      <td>Suite</td>\n",
       "      <td>Tyl2d</td>\n",
       "    </tr>\n",
       "    <tr>\n",
       "      <th>998</th>\n",
       "      <td>8eg</td>\n",
       "      <td>0w12</td>\n",
       "      <td>o4</td>\n",
       "    </tr>\n",
       "    <tr>\n",
       "      <th>999</th>\n",
       "      <td>Sens</td>\n",
       "      <td>Sa9yerfore</td>\n",
       "      <td>Krueder</td>\n",
       "    </tr>\n",
       "  </tbody>\n",
       "</table>\n",
       "<p>1000 rows × 3 columns</p>\n",
       "</div>"
      ],
      "text/plain": [
       "    noise_cmpny  noise_addr    noise_nm\n",
       "0      Hvtfimld       9782z  Cunninghal\n",
       "1        H5w6es       Brown      Moreno\n",
       "2       68ncqez      Hanson    Ro0inson\n",
       "3         Brown    Minhcll7   Gaqriella\n",
       "4         Aeala          AE     Morale7\n",
       "..          ...         ...         ...\n",
       "995      Martin         00r       Casey\n",
       "996       Wil3y  L8st5rpsrt   Maldonado\n",
       "997       Scojt       Suite       Tyl2d\n",
       "998         8eg        0w12          o4\n",
       "999        Sens  Sa9yerfore     Krueder\n",
       "\n",
       "[1000 rows x 3 columns]"
      ]
     },
     "execution_count": 86,
     "metadata": {},
     "output_type": "execute_result"
    }
   ],
   "source": [
    "db2"
   ]
  },
  {
   "cell_type": "code",
   "execution_count": 94,
   "id": "c0ac0628",
   "metadata": {},
   "outputs": [],
   "source": [
    "from sklearn.feature_extraction.text import TfidfVectorizer\n",
    "tfidf = TfidfVectorizer(analyzer='char_wb',\n",
    "                        stop_words=None,\n",
    "                        token_pattern='(?u)\\b\\w\\w+\\b',\n",
    "                        ngram_range=(1, 5),\n",
    "                        max_df=0.8,\n",
    "                        min_df=5)"
   ]
  },
  {
   "cell_type": "code",
   "execution_count": 104,
   "id": "27006f4f",
   "metadata": {},
   "outputs": [],
   "source": [
    "X = np.concatenate([\n",
    "    [str(x) for x in db1.to_numpy().flatten()],\n",
    "    [str(x) for x in db2.to_numpy().flatten()]\n",
    "])"
   ]
  },
  {
   "cell_type": "code",
   "execution_count": 106,
   "id": "0079002e",
   "metadata": {},
   "outputs": [
    {
     "data": {
      "text/plain": [
       "TfidfVectorizer(analyzer='char_wb', max_df=0.8, min_df=5, ngram_range=(1, 5),\n",
       "                token_pattern='(?u)\\x08\\\\w\\\\w+\\x08')"
      ]
     },
     "execution_count": 106,
     "metadata": {},
     "output_type": "execute_result"
    }
   ],
   "source": [
    "tfidf.fit(X)"
   ]
  },
  {
   "cell_type": "code",
   "execution_count": 113,
   "id": "fb0637b1",
   "metadata": {},
   "outputs": [
    {
     "data": {
      "text/plain": [
       "22081"
      ]
     },
     "execution_count": 113,
     "metadata": {},
     "output_type": "execute_result"
    }
   ],
   "source": [
    "len(tfidf.vocabulary_)"
   ]
  },
  {
   "cell_type": "code",
   "execution_count": 127,
   "id": "e34630f1",
   "metadata": {},
   "outputs": [],
   "source": []
  },
  {
   "cell_type": "code",
   "execution_count": 128,
   "id": "85ece131",
   "metadata": {},
   "outputs": [],
   "source": []
  },
  {
   "cell_type": "code",
   "execution_count": null,
   "id": "f993d04e",
   "metadata": {},
   "outputs": [],
   "source": []
  },
  {
   "cell_type": "code",
   "execution_count": null,
   "id": "3116880a",
   "metadata": {},
   "outputs": [],
   "source": []
  },
  {
   "cell_type": "code",
   "execution_count": 129,
   "id": "cf70839c",
   "metadata": {},
   "outputs": [],
   "source": []
  },
  {
   "cell_type": "code",
   "execution_count": 130,
   "id": "3910bf1a",
   "metadata": {},
   "outputs": [
    {
     "data": {
      "text/plain": [
       "(1000, 800)"
      ]
     },
     "execution_count": 130,
     "metadata": {},
     "output_type": "execute_result"
    }
   ],
   "source": [
    "M.shape"
   ]
  },
  {
   "cell_type": "code",
   "execution_count": 140,
   "id": "2e47bc51",
   "metadata": {},
   "outputs": [],
   "source": [
    "# M.max(axis=1)"
   ]
  },
  {
   "cell_type": "code",
   "execution_count": null,
   "id": "f1ca0396",
   "metadata": {},
   "outputs": [],
   "source": []
  },
  {
   "cell_type": "code",
   "execution_count": null,
   "id": "907f9ee3",
   "metadata": {},
   "outputs": [],
   "source": []
  },
  {
   "cell_type": "code",
   "execution_count": 147,
   "id": "729680d0",
   "metadata": {},
   "outputs": [],
   "source": [
    "from sklearn.metrics.pairwise import cosine_similarity\n",
    "l_d_sim = []\n",
    "for c1 in db1.columns:\n",
    "    for c2 in db2.columns:\n",
    "        X1 = tfidf.transform([str(x) for x in db1[c1].values])\n",
    "        X2 = tfidf.transform([str(x) for x in db2[c2].values])\n",
    "        M = cosine_similarity(X1, X2)\n",
    "        max_sim_c1c2 = M.max(axis=1).mean()\n",
    "        max_sim_c2c1 = M.max(axis=0).mean()\n",
    "        max_sim_mean = np.mean([max_sim_c1c2, max_sim_c2c1])\n",
    "        l_d_sim.append({\n",
    "            'c1': c1,\n",
    "            'c2': c2,\n",
    "            'sim': max_sim_mean\n",
    "        })\n",
    "#         print(f'Similarity index between DB1({c1}) and DB2({c2}): {max_sim_c1c2}')\n",
    "df_sim = pd.DataFrame(l_d_sim).sort_values('sim', ascending=False)"
   ]
  },
  {
   "cell_type": "code",
   "execution_count": null,
   "id": "5e6dc648",
   "metadata": {},
   "outputs": [],
   "source": [
    "df_sim"
   ]
  },
  {
   "cell_type": "code",
   "execution_count": 155,
   "id": "ee3fe576",
   "metadata": {},
   "outputs": [
    {
     "data": {
      "text/plain": [
       "{'ae'}"
      ]
     },
     "execution_count": 155,
     "metadata": {},
     "output_type": "execute_result"
    }
   ],
   "source": [
    "set().union(set(['ae']))"
   ]
  },
  {
   "cell_type": "code",
   "execution_count": 162,
   "id": "5ac36f7f",
   "metadata": {},
   "outputs": [],
   "source": [
    "matched = set()\n",
    "rows_kept = []\n",
    "\n",
    "for _, row in df_sim.iterrows():\n",
    "    c1 = row['c1']\n",
    "    c2 = row['c2']\n",
    "    if c1 in matched or c2 in matched:\n",
    "        continue\n",
    "    else:\n",
    "        matched = matched.union(set([c1, c2]))\n",
    "        rows_kept.append(row)"
   ]
  },
  {
   "cell_type": "code",
   "execution_count": 163,
   "id": "76fb0edf",
   "metadata": {},
   "outputs": [
    {
     "data": {
      "text/html": [
       "<div>\n",
       "<style scoped>\n",
       "    .dataframe tbody tr th:only-of-type {\n",
       "        vertical-align: middle;\n",
       "    }\n",
       "\n",
       "    .dataframe tbody tr th {\n",
       "        vertical-align: top;\n",
       "    }\n",
       "\n",
       "    .dataframe thead th {\n",
       "        text-align: right;\n",
       "    }\n",
       "</style>\n",
       "<table border=\"1\" class=\"dataframe\">\n",
       "  <thead>\n",
       "    <tr style=\"text-align: right;\">\n",
       "      <th></th>\n",
       "      <th>c1</th>\n",
       "      <th>c2</th>\n",
       "      <th>sim</th>\n",
       "    </tr>\n",
       "  </thead>\n",
       "  <tbody>\n",
       "    <tr>\n",
       "      <th>26</th>\n",
       "      <td>name</td>\n",
       "      <td>noise_nm</td>\n",
       "      <td>0.536939</td>\n",
       "    </tr>\n",
       "    <tr>\n",
       "      <th>3</th>\n",
       "      <td>company</td>\n",
       "      <td>noise_cmpny</td>\n",
       "      <td>0.508493</td>\n",
       "    </tr>\n",
       "    <tr>\n",
       "      <th>31</th>\n",
       "      <td>address</td>\n",
       "      <td>noise_addr</td>\n",
       "      <td>0.313532</td>\n",
       "    </tr>\n",
       "  </tbody>\n",
       "</table>\n",
       "</div>"
      ],
      "text/plain": [
       "         c1           c2       sim\n",
       "26     name     noise_nm  0.536939\n",
       "3   company  noise_cmpny  0.508493\n",
       "31  address   noise_addr  0.313532"
      ]
     },
     "execution_count": 163,
     "metadata": {},
     "output_type": "execute_result"
    }
   ],
   "source": [
    "pd.DataFrame(rows_kept)"
   ]
  },
  {
   "cell_type": "code",
   "execution_count": 158,
   "id": "87b29a02",
   "metadata": {},
   "outputs": [
    {
     "data": {
      "text/plain": [
       "{'birthdate', 'noise_nm'}"
      ]
     },
     "execution_count": 158,
     "metadata": {},
     "output_type": "execute_result"
    }
   ],
   "source": [
    "matched"
   ]
  }
 ],
 "metadata": {
  "kernelspec": {
   "display_name": "Python 3 (ipykernel)",
   "language": "python",
   "name": "python3"
  },
  "language_info": {
   "codemirror_mode": {
    "name": "ipython",
    "version": 3
   },
   "file_extension": ".py",
   "mimetype": "text/x-python",
   "name": "python",
   "nbconvert_exporter": "python",
   "pygments_lexer": "ipython3",
   "version": "3.7.10"
  },
  "toc": {
   "base_numbering": 1,
   "nav_menu": {},
   "number_sections": true,
   "sideBar": true,
   "skip_h1_title": false,
   "title_cell": "Table of Contents",
   "title_sidebar": "Contents",
   "toc_cell": false,
   "toc_position": {},
   "toc_section_display": true,
   "toc_window_display": false
  }
 },
 "nbformat": 4,
 "nbformat_minor": 5
}
