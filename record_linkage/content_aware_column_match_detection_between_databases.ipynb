{
 "cells": [
  {
   "cell_type": "code",
   "execution_count": 1,
   "id": "08724f5d",
   "metadata": {},
   "outputs": [
    {
     "name": "stdout",
     "output_type": "stream",
     "text": [
      "mlflow URI: file:///root/work/research/experiments/record_linkage/mlflow/mlruns\n"
     ]
    }
   ],
   "source": [
    "%load_ext autoreload\n",
    "%autoreload 2\n",
    "\n",
    "import os\n",
    "from pathlib import Path\n",
    "\n",
    "# Override/set credentials in env var\n",
    "os.environ['CWD'] = str(Path(os.getcwd()).parent)\n",
    "\n",
    "# Base paths\n",
    "cwd = Path(os.environ['CWD'])\n",
    "dir_data = cwd / 'data'\n",
    "\n",
    "# Set mlflow artifacts location\n",
    "dir_exp_root = Path(cwd / 'experiments')\n",
    "dir_exp_this = Path(dir_exp_root / 'record_linkage')\n",
    "dir_exp_mlflow = dir_exp_this / 'mlflow'\n",
    "dir_exp_mlflow.mkdir(exist_ok=True, parents=True)\n",
    "\n",
    "import mlflow\n",
    "mlflow_tracking_uri = (dir_exp_mlflow / 'mlruns').as_uri()\n",
    "print(f'mlflow URI: {mlflow_tracking_uri}')\n",
    "mlflow.set_tracking_uri(mlflow_tracking_uri)\n",
    "\n",
    "import numpy as np\n",
    "from PIL import Image"
   ]
  },
  {
   "cell_type": "code",
   "execution_count": 2,
   "id": "6f00e1fc",
   "metadata": {},
   "outputs": [],
   "source": [
    "from faker import Faker\n",
    "Faker.seed(288)\n",
    "fake = Faker(\n",
    "#     [\n",
    "#     'it_IT',\n",
    "#     'en_US',\n",
    "#     'es_ES',\n",
    "#     'en_CA'\n",
    "#     ]\n",
    ")\n",
    "import pandas as pd\n",
    "\n",
    "db1 = pd.DataFrame([fake.profile() for _ in range(20000)])"
   ]
  },
  {
   "cell_type": "code",
   "execution_count": 3,
   "id": "96557ccb",
   "metadata": {},
   "outputs": [],
   "source": [
    "# Add current_location\n",
    "# Remove fields randomly \n",
    "# db1.head(5)"
   ]
  },
  {
   "cell_type": "code",
   "execution_count": null,
   "id": "11de98a6",
   "metadata": {},
   "outputs": [],
   "source": []
  },
  {
   "cell_type": "code",
   "execution_count": 4,
   "id": "65f8eb38",
   "metadata": {
    "tags": [
     "parameters"
    ]
   },
   "outputs": [],
   "source": [
    "P_NOISE_CHAR = 0.1\n",
    "NUM_TOKENS_KEPT_ADDR = 2\n",
    "ROW_COL_MISSING_OR_SWAPPED = 'SWAP' # None, 'MISSING'\n",
    "P_ROW_COL_MISSING_OR_SWAPPED = 1\n",
    "FRAC_KEPT_ROWS_DB2 = 0.5\n",
    "\n",
    "\n",
    "TFIDF_ANALYZER = 'char_wb'\n",
    "TFIDF_NGRAM_LO = 2\n",
    "TFIDF_NGRAM_HI = 4\n",
    "TFIDF_MAX_DF = 0.8\n",
    "TFIDF_MIN_DF = 10\n",
    "TFIDF_MAX_FEATS = 100000"
   ]
  },
  {
   "cell_type": "code",
   "execution_count": 5,
   "id": "90c944b0",
   "metadata": {},
   "outputs": [],
   "source": [
    "pd.options.mode.chained_assignment = None\n",
    "np.random.seed(288)\n",
    "\n",
    "db2 = db1[['job', 'address', 'name']]\n",
    "\n",
    "import re\n",
    "def _split(txt):\n",
    "    return [x.strip() for x in re.split('-|\\s| and |,', txt) if x.strip() != '']\n",
    "\n",
    "# _split('Wilson, Sanchez and Pearson')\n",
    "\n",
    "db2['job'] = db2['job'].apply(lambda txt: \n",
    "    np.random.choice(_split(txt))\n",
    ")\n",
    "\n",
    "db2['name'] = db2['name'].apply(lambda txt: \n",
    "    np.random.choice(_split(txt))\n",
    ")\n",
    "\n",
    "\n",
    "\n",
    "db2['address'] = db2['address'].apply(lambda txt: \n",
    "    ' '.join(np.random.choice(_split(txt), size=min(NUM_TOKENS_KEPT_ADDR, len(_split(txt))), replace=False)) # Keep 2 tokens when possible, otherwise 1\n",
    ")\n",
    "\n",
    "import string\n",
    "\n",
    "def _add_char_noise(txt, p, noise_set_chars=[c for c in string.ascii_lowercase + string.digits]):\n",
    "    txt_noise = ''\n",
    "    for c in txt:\n",
    "        if np.random.rand() < p:\n",
    "            txt_noise += np.random.choice(noise_set_chars)\n",
    "        else:\n",
    "            txt_noise += c\n",
    "    return txt_noise\n",
    "\n",
    "\n",
    "from functools import partial\n",
    "\n",
    "f_add_char_noise = partial(_add_char_noise, p=P_NOISE_CHAR)\n",
    "\n",
    "\n",
    "\n",
    "db2['job'] = db2['job'].apply(f_add_char_noise)\n",
    "db2['address'] = db2['address'].apply(f_add_char_noise)\n",
    "db2['name'] = db2['name'].apply(f_add_char_noise)\n",
    "\n",
    "\n",
    "_prime = '′'\n",
    "d_name_map_c1c2 = {k:k+_prime for k in ['name', 'address', 'job']}\n",
    "db2 = db2.rename(columns=d_name_map_c1c2)"
   ]
  },
  {
   "cell_type": "code",
   "execution_count": 6,
   "id": "ffcdd45f",
   "metadata": {},
   "outputs": [],
   "source": [
    "def _random_swap_columns(row, subset, p):\n",
    "    c1, c2 = np.random.choice(subset, 2, replace=False)\n",
    "    aux = row[c1]\n",
    "    row[c1] = row[c2]\n",
    "    row[c2] = aux\n",
    "    return row"
   ]
  },
  {
   "cell_type": "code",
   "execution_count": 7,
   "id": "a6e3dfa2",
   "metadata": {},
   "outputs": [],
   "source": [
    "def _random_set_empty_column(row, subset, p):\n",
    "    c = np.random.choice(subset)\n",
    "    row[c] = ''\n",
    "    return row"
   ]
  },
  {
   "cell_type": "code",
   "execution_count": null,
   "id": "b0257882",
   "metadata": {},
   "outputs": [],
   "source": []
  },
  {
   "cell_type": "code",
   "execution_count": null,
   "id": "0a4253c8",
   "metadata": {},
   "outputs": [],
   "source": []
  },
  {
   "cell_type": "code",
   "execution_count": 8,
   "id": "0bd6b749",
   "metadata": {},
   "outputs": [],
   "source": [
    "rows_db2 = []\n",
    "\n",
    "for _,row in db2.iterrows():\n",
    "    if ROW_COL_MISSING_OR_SWAPPED == 'SWAP':\n",
    "        row = _random_swap_columns(row,\n",
    "                                   subset=list(d_name_map_c1c2.values()), # ['name′', 'address′', 'job′']\n",
    "                                   p=P_ROW_COL_MISSING_OR_SWAPPED)\n",
    "    elif ROW_COL_MISSING_OR_SWAPPED == 'MISSING':\n",
    "        row = _random_set_empty_column(row,\n",
    "                                       subset=list(d_name_map_c1c2.values()), #  ['name′', 'address′', 'job′']\n",
    "                                       p=P_ROW_COL_MISSING_OR_SWAPPED)\n",
    "    elif ROW_COL_MISSING_OR_SWAPPED is None:\n",
    "        pass\n",
    "    else:\n",
    "        raise ValueError()\n",
    "    rows_db2.append(row)\n",
    "    \n",
    "db2 = pd.DataFrame(rows_db2)"
   ]
  },
  {
   "cell_type": "code",
   "execution_count": null,
   "id": "43e05a26",
   "metadata": {},
   "outputs": [],
   "source": []
  },
  {
   "cell_type": "code",
   "execution_count": null,
   "id": "4ad25fc5",
   "metadata": {},
   "outputs": [],
   "source": []
  },
  {
   "cell_type": "code",
   "execution_count": null,
   "id": "1efefb33",
   "metadata": {},
   "outputs": [],
   "source": []
  },
  {
   "cell_type": "code",
   "execution_count": 9,
   "id": "5f88b512",
   "metadata": {},
   "outputs": [
    {
     "data": {
      "text/html": [
       "<div>\n",
       "<style scoped>\n",
       "    .dataframe tbody tr th:only-of-type {\n",
       "        vertical-align: middle;\n",
       "    }\n",
       "\n",
       "    .dataframe tbody tr th {\n",
       "        vertical-align: top;\n",
       "    }\n",
       "\n",
       "    .dataframe thead th {\n",
       "        text-align: right;\n",
       "    }\n",
       "</style>\n",
       "<table border=\"1\" class=\"dataframe\">\n",
       "  <thead>\n",
       "    <tr style=\"text-align: right;\">\n",
       "      <th></th>\n",
       "      <th>name</th>\n",
       "      <th>address</th>\n",
       "      <th>job</th>\n",
       "    </tr>\n",
       "  </thead>\n",
       "  <tbody>\n",
       "    <tr>\n",
       "      <th>0</th>\n",
       "      <td>Amanda Arroyo</td>\n",
       "      <td>0751 Samantha Walk Apt. 650\\nChenfort, SC 04033</td>\n",
       "      <td>Herbalist</td>\n",
       "    </tr>\n",
       "    <tr>\n",
       "      <th>1</th>\n",
       "      <td>Victoria Brown</td>\n",
       "      <td>787 Alexander Road\\nPort Leslieborough, VA 53325</td>\n",
       "      <td>Outdoor activities/education manager</td>\n",
       "    </tr>\n",
       "    <tr>\n",
       "      <th>2</th>\n",
       "      <td>Amy Henry</td>\n",
       "      <td>706 Sarah Lakes Apt. 421\\nSouth Jeremy, AR 49313</td>\n",
       "      <td>Chemist, analytical</td>\n",
       "    </tr>\n",
       "    <tr>\n",
       "      <th>3</th>\n",
       "      <td>Christopher Curtis</td>\n",
       "      <td>7274 Bird Canyon Suite 720\\nValentinechester, SC 19114</td>\n",
       "      <td>Geneticist, molecular</td>\n",
       "    </tr>\n",
       "    <tr>\n",
       "      <th>4</th>\n",
       "      <td>Kevin Vargas</td>\n",
       "      <td>1310 Anderson Fork Apt. 598\\nBrandonbury, WV 31931</td>\n",
       "      <td>Structural engineer</td>\n",
       "    </tr>\n",
       "  </tbody>\n",
       "</table>\n",
       "</div>"
      ],
      "text/plain": [
       "                 name                                                 address  \\\n",
       "0       Amanda Arroyo         0751 Samantha Walk Apt. 650\\nChenfort, SC 04033   \n",
       "1      Victoria Brown        787 Alexander Road\\nPort Leslieborough, VA 53325   \n",
       "2           Amy Henry        706 Sarah Lakes Apt. 421\\nSouth Jeremy, AR 49313   \n",
       "3  Christopher Curtis  7274 Bird Canyon Suite 720\\nValentinechester, SC 19114   \n",
       "4        Kevin Vargas      1310 Anderson Fork Apt. 598\\nBrandonbury, WV 31931   \n",
       "\n",
       "                                    job  \n",
       "0                             Herbalist  \n",
       "1  Outdoor activities/education manager  \n",
       "2                   Chemist, analytical  \n",
       "3                 Geneticist, molecular  \n",
       "4                   Structural engineer  "
      ]
     },
     "metadata": {},
     "output_type": "display_data"
    }
   ],
   "source": [
    "with pd.option_context('max.colwidth', None):\n",
    "    display(db1[['name', 'address', 'job']].head())"
   ]
  },
  {
   "cell_type": "code",
   "execution_count": null,
   "id": "182e55d2",
   "metadata": {},
   "outputs": [],
   "source": []
  },
  {
   "cell_type": "code",
   "execution_count": 10,
   "id": "42ed1aed",
   "metadata": {},
   "outputs": [
    {
     "data": {
      "text/html": [
       "<div>\n",
       "<style scoped>\n",
       "    .dataframe tbody tr th:only-of-type {\n",
       "        vertical-align: middle;\n",
       "    }\n",
       "\n",
       "    .dataframe tbody tr th {\n",
       "        vertical-align: top;\n",
       "    }\n",
       "\n",
       "    .dataframe thead th {\n",
       "        text-align: right;\n",
       "    }\n",
       "</style>\n",
       "<table border=\"1\" class=\"dataframe\">\n",
       "  <thead>\n",
       "    <tr style=\"text-align: right;\">\n",
       "      <th></th>\n",
       "      <th>name′</th>\n",
       "      <th>address′</th>\n",
       "      <th>job′</th>\n",
       "    </tr>\n",
       "  </thead>\n",
       "  <tbody>\n",
       "    <tr>\n",
       "      <th>0</th>\n",
       "      <td>Amanda</td>\n",
       "      <td>Herbasist</td>\n",
       "      <td>0751 Samantha</td>\n",
       "    </tr>\n",
       "    <tr>\n",
       "      <th>1</th>\n",
       "      <td>Leslieborsugh Alexander</td>\n",
       "      <td>Brotn</td>\n",
       "      <td>manaaer</td>\n",
       "    </tr>\n",
       "    <tr>\n",
       "      <th>2</th>\n",
       "      <td>6nalytical</td>\n",
       "      <td>SarahyS8uth</td>\n",
       "      <td>Henry</td>\n",
       "    </tr>\n",
       "    <tr>\n",
       "      <th>3</th>\n",
       "      <td>7274 SC</td>\n",
       "      <td>Curtis</td>\n",
       "      <td>Genetihdst</td>\n",
       "    </tr>\n",
       "    <tr>\n",
       "      <th>4</th>\n",
       "      <td>engineer</td>\n",
       "      <td>Apt. WV</td>\n",
       "      <td>Vargps</td>\n",
       "    </tr>\n",
       "  </tbody>\n",
       "</table>\n",
       "</div>"
      ],
      "text/plain": [
       "                     name′     address′           job′\n",
       "0                   Amanda    Herbasist  0751 Samantha\n",
       "1  Leslieborsugh Alexander        Brotn        manaaer\n",
       "2               6nalytical  SarahyS8uth          Henry\n",
       "3                  7274 SC       Curtis     Genetihdst\n",
       "4                 engineer      Apt. WV         Vargps"
      ]
     },
     "execution_count": 10,
     "metadata": {},
     "output_type": "execute_result"
    }
   ],
   "source": [
    "db2[d_name_map_c1c2.values()].head()"
   ]
  },
  {
   "cell_type": "code",
   "execution_count": 11,
   "id": "32181829",
   "metadata": {},
   "outputs": [],
   "source": [
    "# missing rows + shuffle\n",
    "\n",
    "db2 = db2.sample(frac=FRAC_KEPT_ROWS_DB2, random_state=288).reset_index()"
   ]
  },
  {
   "cell_type": "code",
   "execution_count": null,
   "id": "7336859b",
   "metadata": {},
   "outputs": [],
   "source": []
  },
  {
   "cell_type": "code",
   "execution_count": null,
   "id": "056e563c",
   "metadata": {},
   "outputs": [],
   "source": []
  },
  {
   "cell_type": "code",
   "execution_count": null,
   "id": "0a5bb2b5",
   "metadata": {},
   "outputs": [],
   "source": []
  },
  {
   "cell_type": "code",
   "execution_count": null,
   "id": "a5ef752a",
   "metadata": {},
   "outputs": [],
   "source": []
  },
  {
   "cell_type": "code",
   "execution_count": 12,
   "id": "c0ac0628",
   "metadata": {},
   "outputs": [],
   "source": [
    "# Toni: reduce dim\n",
    "\n",
    "from sklearn.feature_extraction.text import TfidfVectorizer\n",
    "tfidf = TfidfVectorizer(analyzer=TFIDF_ANALYZER,\n",
    "                        ngram_range=(TFIDF_NGRAM_LO, TFIDF_NGRAM_HI),\n",
    "                        max_df=TFIDF_MAX_DF,\n",
    "                        min_df=TFIDF_MIN_DF,\n",
    "                        max_features=TFIDF_MAX_FEATS)"
   ]
  },
  {
   "cell_type": "code",
   "execution_count": 13,
   "id": "27006f4f",
   "metadata": {},
   "outputs": [
    {
     "data": {
      "text/plain": [
       "48173"
      ]
     },
     "execution_count": 13,
     "metadata": {},
     "output_type": "execute_result"
    }
   ],
   "source": [
    "X = np.concatenate([\n",
    "    [str(x) for x in db1.to_numpy().flatten()],\n",
    "    [str(x) for x in db2.to_numpy().flatten()]\n",
    "])\n",
    "tfidf.fit(X)\n",
    "TFIDF_VOCAB = len(tfidf.vocabulary_)\n",
    "TFIDF_VOCAB"
   ]
  },
  {
   "cell_type": "code",
   "execution_count": null,
   "id": "fb0637b1",
   "metadata": {},
   "outputs": [],
   "source": []
  },
  {
   "cell_type": "code",
   "execution_count": 14,
   "id": "729680d0",
   "metadata": {},
   "outputs": [],
   "source": [
    "# from sklearn.metrics.pairwise import cosine_similarity\n",
    "# l_d_sim = []\n",
    "# for c1 in db1.columns:\n",
    "#     for c2 in db2.columns:\n",
    "#         X1 = tfidf.transform([str(x) for x in db1[c1].values]).astype(np.float32) # cast to np.float32 to avoid mem issues in cosine_sim mat\n",
    "#         X2 = tfidf.transform([str(x) for x in db2[c2].values]).astype(np.float32)\n",
    "#         M = cosine_similarity(X1, X2)\n",
    "#         max_sim_c1c2 = M.max(axis=1).mean()\n",
    "#         max_sim_c2c1 = M.max(axis=0).mean()\n",
    "#         max_sim_mean = np.mean([max_sim_c1c2, max_sim_c2c1])\n",
    "#         l_d_sim.append({\n",
    "#             'c1': c1,\n",
    "#             'c2': c2,\n",
    "#             'sim': max_sim_mean\n",
    "#         })\n",
    "# #         print(f'Similarity index between DB1({c1}) and DB2({c2}): {max_sim_c1c2}')\n",
    "# df_sim = pd.DataFrame(l_d_sim).sort_values('sim', ascending=False)\n",
    "\n",
    "\n",
    "# TO_MATCH = [\"name'\", \"company'\", \"address'\"]\n",
    "# matched = set()\n",
    "# rows_kept = []\n",
    "\n",
    "# for _, row in df_sim.iterrows():\n",
    "#     c1 = row['c1']\n",
    "#     c2 = row['c2']\n",
    "#     if (c1 in matched or c2 in matched)\\\n",
    "#     or (c1 not in TO_MATCH and c2 not in TO_MATCH):\n",
    "#         continue\n",
    "#     else:\n",
    "#         matched = matched.union(set([c1, c2]))\n",
    "#         rows_kept.append(row)\n",
    "\n",
    "\n",
    "# df_c1c2 = pd.DataFrame(rows_kept)\n",
    "\n",
    "# d_c1c2 = df_c1c2.set_index('c1')['c2'].to_dict()\n",
    "# d_c1c2"
   ]
  },
  {
   "cell_type": "code",
   "execution_count": null,
   "id": "20885816",
   "metadata": {},
   "outputs": [],
   "source": []
  },
  {
   "cell_type": "markdown",
   "id": "c758c1de",
   "metadata": {},
   "source": [
    "# Rows matching"
   ]
  },
  {
   "cell_type": "code",
   "execution_count": 15,
   "id": "8793f0b4",
   "metadata": {},
   "outputs": [],
   "source": [
    "from scipy.sparse import vstack, hstack\n",
    "def vectorize_df_ordered_cols(df):\n",
    "    vectorized_tfidf = np.vectorize(lambda x: tfidf.transform([x]))\n",
    "    db_mat = df.to_numpy()\n",
    "    X_db = vectorized_tfidf(db_mat)\n",
    "    X_db = [hstack(row) for row in X_db]\n",
    "    X_db = vstack(X_db)\n",
    "    return X_db"
   ]
  },
  {
   "cell_type": "code",
   "execution_count": 16,
   "id": "128598ab",
   "metadata": {},
   "outputs": [],
   "source": [
    "class Clock():\n",
    "    def __init__(self):\n",
    "        self.d = {}\n",
    "        \n",
    "    def tick(self):\n",
    "        self.t = time()\n",
    "        \n",
    "    def tack(self, name):\n",
    "        self.d[name] = round(time() - self.t, 2)"
   ]
  },
  {
   "cell_type": "code",
   "execution_count": 17,
   "id": "8f46b2c7",
   "metadata": {},
   "outputs": [],
   "source": [
    "from time import time\n",
    "clock = Clock()\n",
    "\n",
    "clock.tick()\n",
    "X_db1 = vectorize_df_ordered_cols(db1[d_name_map_c1c2.keys()]).astype(np.float32)\n",
    "clock.tack('time_vectorize_db1')\n",
    "\n",
    "clock.tick()\n",
    "X_db2 = vectorize_df_ordered_cols(db2[d_name_map_c1c2.values()]).astype(np.float32)\n",
    "clock.tack('time_vectorize_db2')"
   ]
  },
  {
   "cell_type": "code",
   "execution_count": null,
   "id": "fcb57b01",
   "metadata": {},
   "outputs": [],
   "source": []
  },
  {
   "cell_type": "code",
   "execution_count": 18,
   "id": "04b24f9a",
   "metadata": {},
   "outputs": [],
   "source": [
    "from sklearn.metrics.pairwise import cosine_similarity\n",
    "\n",
    "clock.tick()\n",
    "M_rowsim = cosine_similarity(X_db1, X_db2)\n",
    "\n",
    "matching_row_in_db2 = M_rowsim.argmax(axis=1)\n",
    "matching_row_in_db2_sim = M_rowsim.max(axis=1)\n",
    "clock.tack('time_matching')\n",
    "\n",
    "db1['matching_row_in_db2'] = matching_row_in_db2\n",
    "db1['sim'] = matching_row_in_db2_sim"
   ]
  },
  {
   "cell_type": "code",
   "execution_count": 19,
   "id": "92deac39",
   "metadata": {},
   "outputs": [],
   "source": [
    "clock.tick()\n",
    "list_top5 = []\n",
    "for row in M_rowsim:\n",
    "    list_top5.append(row.argsort()[::-1][:5])\n",
    "    \n",
    "matching_row_in_db2_top5 = np.array(list_top5)\n",
    "clock.tack('time_argsort_for_topk')"
   ]
  },
  {
   "cell_type": "code",
   "execution_count": null,
   "id": "0fca7fcd",
   "metadata": {},
   "outputs": [],
   "source": []
  },
  {
   "cell_type": "code",
   "execution_count": 20,
   "id": "cf294f72",
   "metadata": {},
   "outputs": [],
   "source": [
    "db1['matching_row_in_db2_top5'] = [row for row in matching_row_in_db2_top5]"
   ]
  },
  {
   "cell_type": "code",
   "execution_count": 21,
   "id": "026d8248",
   "metadata": {},
   "outputs": [],
   "source": [
    "# db1[list(d_c1c2.keys())+['matching_row_in_db2']]"
   ]
  },
  {
   "cell_type": "code",
   "execution_count": 22,
   "id": "43b1c13e",
   "metadata": {},
   "outputs": [],
   "source": [
    "# Slide: Not noisy vs correspondent noisy"
   ]
  },
  {
   "cell_type": "code",
   "execution_count": 23,
   "id": "24fef1b0",
   "metadata": {},
   "outputs": [],
   "source": [
    "# Ruido2: Falta algun campo\n",
    "# Ruido3: Swap campo\n",
    "# Rendimiento SCANN"
   ]
  },
  {
   "cell_type": "code",
   "execution_count": 24,
   "id": "1c047512",
   "metadata": {},
   "outputs": [],
   "source": [
    "df_row_matches = pd.merge(\n",
    "    left=db1.reset_index()[['index', 'matching_row_in_db2', 'company', 'address', 'name', 'sim', 'matching_row_in_db2_top5']],\n",
    "    right=db2.reset_index()[['level_0', 'index'] + list(d_name_map_c1c2.values())],\n",
    "    left_on='index',\n",
    "    right_on='index'\n",
    ")"
   ]
  },
  {
   "cell_type": "markdown",
   "id": "a3b2122d",
   "metadata": {},
   "source": [
    "# Metrics"
   ]
  },
  {
   "cell_type": "code",
   "execution_count": 25,
   "id": "e8218e45",
   "metadata": {},
   "outputs": [],
   "source": [
    "def df_to_html_file_for_mlflow(df, path_artifact):\n",
    "    # Also, write HTML and log \n",
    "    from pretty_html_table import build_table\n",
    "    with pd.option_context(\"display.precision\", 4):\n",
    "        html_df = build_table(df, index=True, color='grey_light', font_family='Arial', font_size=12)\n",
    "        with open(path_artifact, 'w') as fb:\n",
    "            fb.write(html_df)\n",
    "            \n",
    "            \n",
    "dir_artifacts = Path('output') # Can it be temp?\n",
    "dir_artifacts.mkdir(parents=True, exist_ok=True)"
   ]
  },
  {
   "cell_type": "code",
   "execution_count": null,
   "id": "107dadb7",
   "metadata": {},
   "outputs": [],
   "source": []
  },
  {
   "cell_type": "code",
   "execution_count": 26,
   "id": "5e335bc0",
   "metadata": {},
   "outputs": [],
   "source": [
    "d_metrics = {}"
   ]
  },
  {
   "cell_type": "code",
   "execution_count": 27,
   "id": "9b34be7d",
   "metadata": {},
   "outputs": [],
   "source": [
    "# Top1 acc - no thr\n",
    "df_row_matches['high_conf'] = df_row_matches['sim'] > 0\n",
    "\n",
    "df_row_matches['match_correct'] = df_row_matches['matching_row_in_db2'] == df_row_matches['level_0']\n",
    "df_ct = pd.crosstab(df_row_matches['high_conf'], df_row_matches['match_correct'], normalize='all')\n",
    "d_metrics['top1 acc'] = df_ct[True][True]"
   ]
  },
  {
   "cell_type": "code",
   "execution_count": 28,
   "id": "9def7620",
   "metadata": {},
   "outputs": [],
   "source": [
    "# Top1 acc - thr\n",
    "THR_CONFIDENCE_QUANTILE = 0.3 # Example of threshold threshold tests → We will not process bottom 30% confident rows\n",
    "# THR LEAVING OUT % OF SAMPLES\n",
    "THR = df_row_matches['sim'].quantile(THR_CONFIDENCE_QUANTILE)\n",
    "df_row_matches['high_conf'] = df_row_matches['sim'] > THR\n",
    "df_ct = pd.crosstab(df_row_matches['high_conf'], df_row_matches['match_correct'], normalize='index')\n",
    "d_metrics[f'top1 acc of processed'] = df_ct[True][True]"
   ]
  },
  {
   "cell_type": "code",
   "execution_count": 29,
   "id": "f3cab012",
   "metadata": {},
   "outputs": [],
   "source": [
    "# norm this by 'all' instead of 'index'\n",
    "df_ct_for_barplot = pd.crosstab(df_row_matches['high_conf'], df_row_matches['match_correct'], normalize='all', dropna=False)"
   ]
  },
  {
   "cell_type": "code",
   "execution_count": 30,
   "id": "9a762e14",
   "metadata": {},
   "outputs": [],
   "source": [
    "df_to_html_file_for_mlflow(df_ct.reset_index(), dir_artifacts / 'error_rate_thr_norm_row.html')"
   ]
  },
  {
   "cell_type": "code",
   "execution_count": 31,
   "id": "327a6f73",
   "metadata": {},
   "outputs": [],
   "source": [
    "df_to_html_file_for_mlflow(df_ct_for_barplot.reset_index(), dir_artifacts / 'error_rate_thr_norm_all.html')"
   ]
  },
  {
   "cell_type": "code",
   "execution_count": 32,
   "id": "c1d48651",
   "metadata": {},
   "outputs": [],
   "source": [
    "df_ct_for_barplot\n",
    "d_metrics_thr = {\n",
    "    'perc_processed_ok': df_ct_for_barplot[True][True],\n",
    "    \n",
    "    'perc_processed_ko': df_ct_for_barplot[False][True],\n",
    "    \n",
    "    'perc_not_processed': THR_CONFIDENCE_QUANTILE,\n",
    "}\n",
    "df_metrics_thr = pd.DataFrame(d_metrics_thr.items())\n",
    "\n",
    "df_metrics_thr[' '] = ''\n",
    "df_metrics_thr[1] = (df_metrics_thr[1]*100).apply(lambda x: round(x,2))\n",
    "\n",
    "import plotly.express as px\n",
    "fig = px.bar(\n",
    "    df_metrics_thr,\n",
    "    x=' ',\n",
    "    y=1,\n",
    "    color=0,\n",
    "    color_discrete_map={\n",
    "        'perc_not_processed': 'rgba(70,70,70,0.5)',\n",
    "        'perc_processed_ok': 'rgba(0,200,120,1)',\n",
    "        'perc_processed_ko': 'red'\n",
    "    },\n",
    "    text=1,\n",
    "    width=400,\n",
    "    \n",
    ")\n",
    "\n",
    "fig.update_layout(\n",
    "    uniformtext_minsize=12,\n",
    "    uniformtext_mode='hide',\n",
    "    legend_title_text='Case',\n",
    "    xaxis_title=\"\",\n",
    "    yaxis_title=\"%\",\n",
    "    title='Percentages of not processed, processed correctly and<br>processed incorrectly when using threshold',\n",
    ")\n",
    "fig.update_layout(title_font_size=12)\n",
    "\n",
    "fig.write_html(dir_artifacts / 'perc_not_proc_proc_ok_ko.html')"
   ]
  },
  {
   "cell_type": "code",
   "execution_count": null,
   "id": "f2c95633",
   "metadata": {},
   "outputs": [],
   "source": []
  },
  {
   "cell_type": "code",
   "execution_count": null,
   "id": "1f8c0546",
   "metadata": {},
   "outputs": [],
   "source": []
  },
  {
   "cell_type": "code",
   "execution_count": 33,
   "id": "f67e7c9c",
   "metadata": {},
   "outputs": [],
   "source": [
    "# Top3 acc\n",
    "df_row_matches['match_correct_top3'] = df_row_matches.apply(lambda row: row['level_0'] in row['matching_row_in_db2_top5'][:3], axis=1)\n",
    "df_ct = pd.crosstab(df_row_matches['high_conf'], df_row_matches['match_correct_top3'], normalize='index')\n",
    "d_metrics['top3 acc'] = df_ct[True][True]"
   ]
  },
  {
   "cell_type": "code",
   "execution_count": null,
   "id": "1665f1d2",
   "metadata": {},
   "outputs": [],
   "source": []
  },
  {
   "cell_type": "code",
   "execution_count": 34,
   "id": "78e67dda",
   "metadata": {},
   "outputs": [],
   "source": [
    "# Top5 acc\n",
    "df_row_matches['match_correct_top5'] = df_row_matches.apply(lambda row: row['level_0'] in row['matching_row_in_db2_top5'], axis=1)\n",
    "df_ct = pd.crosstab(df_row_matches['high_conf'], df_row_matches['match_correct_top5'], normalize='index')\n",
    "d_metrics['top5 acc'] = df_ct[True][True]"
   ]
  },
  {
   "cell_type": "code",
   "execution_count": null,
   "id": "27921a1e",
   "metadata": {},
   "outputs": [],
   "source": []
  },
  {
   "cell_type": "code",
   "execution_count": null,
   "id": "a7195de2",
   "metadata": {},
   "outputs": [],
   "source": []
  },
  {
   "cell_type": "code",
   "execution_count": null,
   "id": "37a04be8",
   "metadata": {},
   "outputs": [],
   "source": []
  },
  {
   "cell_type": "code",
   "execution_count": null,
   "id": "02560a4e",
   "metadata": {},
   "outputs": [],
   "source": []
  },
  {
   "cell_type": "code",
   "execution_count": null,
   "id": "224fcf65",
   "metadata": {},
   "outputs": [],
   "source": []
  },
  {
   "cell_type": "code",
   "execution_count": null,
   "id": "89cfe33e",
   "metadata": {},
   "outputs": [],
   "source": []
  },
  {
   "cell_type": "code",
   "execution_count": 35,
   "id": "4606de4f",
   "metadata": {},
   "outputs": [],
   "source": [
    "# !pip install scann"
   ]
  },
  {
   "cell_type": "code",
   "execution_count": 36,
   "id": "2d80482b",
   "metadata": {},
   "outputs": [],
   "source": [
    "# !pip install numpy --upgrade"
   ]
  },
  {
   "cell_type": "code",
   "execution_count": 37,
   "id": "635c6940",
   "metadata": {},
   "outputs": [],
   "source": [
    "# # https://github.com/google-research/google-research/blob/master/scann/docs/example.ipynb\n",
    "# import scann\n"
   ]
  },
  {
   "cell_type": "code",
   "execution_count": null,
   "id": "a9f872fc",
   "metadata": {},
   "outputs": [],
   "source": []
  },
  {
   "cell_type": "code",
   "execution_count": 38,
   "id": "a9ecbb5a",
   "metadata": {},
   "outputs": [],
   "source": [
    "# searcher = scann.scann_ops_pybind.builder(X_db1, 10, \"dot_product\").tree(\n",
    "#     num_leaves=2000, num_leaves_to_search=100, training_sample_size=250000).score_ah(\n",
    "#     2, anisotropic_quantization_threshold=0.2).reorder(100).build()"
   ]
  },
  {
   "cell_type": "code",
   "execution_count": null,
   "id": "e0d3f1f0",
   "metadata": {},
   "outputs": [],
   "source": []
  },
  {
   "cell_type": "code",
   "execution_count": null,
   "id": "d2c9de8e",
   "metadata": {},
   "outputs": [],
   "source": []
  },
  {
   "cell_type": "code",
   "execution_count": null,
   "id": "620d4f99",
   "metadata": {},
   "outputs": [],
   "source": []
  },
  {
   "cell_type": "code",
   "execution_count": 39,
   "id": "8d35f6b9",
   "metadata": {},
   "outputs": [
    {
     "data": {
      "text/html": [
       "<div>\n",
       "<style scoped>\n",
       "    .dataframe tbody tr th:only-of-type {\n",
       "        vertical-align: middle;\n",
       "    }\n",
       "\n",
       "    .dataframe tbody tr th {\n",
       "        vertical-align: top;\n",
       "    }\n",
       "\n",
       "    .dataframe thead th {\n",
       "        text-align: right;\n",
       "    }\n",
       "</style>\n",
       "<table border=\"1\" class=\"dataframe\">\n",
       "  <thead>\n",
       "    <tr style=\"text-align: right;\">\n",
       "      <th></th>\n",
       "      <th>residence</th>\n",
       "    </tr>\n",
       "  </thead>\n",
       "  <tbody>\n",
       "    <tr>\n",
       "      <th>3897</th>\n",
       "      <td>5405 Jessica Grove\\nNorth Matthew, MD 73186</td>\n",
       "    </tr>\n",
       "    <tr>\n",
       "      <th>15719</th>\n",
       "      <td>3205 Bowman Isle Suite 454\\nLake David, IN 66600</td>\n",
       "    </tr>\n",
       "    <tr>\n",
       "      <th>17915</th>\n",
       "      <td>354 Allen Fort Apt. 673\\nHayestown, CA 53217</td>\n",
       "    </tr>\n",
       "    <tr>\n",
       "      <th>12783</th>\n",
       "      <td>92597 Annette Branch\\nYoungchester, MO 29107</td>\n",
       "    </tr>\n",
       "    <tr>\n",
       "      <th>6880</th>\n",
       "      <td>4177 Sarah Pass\\nJacksonview, ID 21177</td>\n",
       "    </tr>\n",
       "    <tr>\n",
       "      <th>15785</th>\n",
       "      <td>PSC 3693, Box 9492\\nAPO AE 88261</td>\n",
       "    </tr>\n",
       "    <tr>\n",
       "      <th>2426</th>\n",
       "      <td>57520 Costa Hill Suite 261\\nLake Julieborough, HI 65335</td>\n",
       "    </tr>\n",
       "  </tbody>\n",
       "</table>\n",
       "</div>"
      ],
      "text/plain": [
       "                                                     residence\n",
       "3897               5405 Jessica Grove\\nNorth Matthew, MD 73186\n",
       "15719         3205 Bowman Isle Suite 454\\nLake David, IN 66600\n",
       "17915             354 Allen Fort Apt. 673\\nHayestown, CA 53217\n",
       "12783             92597 Annette Branch\\nYoungchester, MO 29107\n",
       "6880                    4177 Sarah Pass\\nJacksonview, ID 21177\n",
       "15785                         PSC 3693, Box 9492\\nAPO AE 88261\n",
       "2426   57520 Costa Hill Suite 261\\nLake Julieborough, HI 65335"
      ]
     },
     "metadata": {},
     "output_type": "display_data"
    }
   ],
   "source": [
    "sample_rows = db1.sample(7)\n",
    "with pd.option_context('max.colwidth', None):\n",
    "    display(sample_rows[['residence']])"
   ]
  },
  {
   "cell_type": "code",
   "execution_count": null,
   "id": "bf7e2e9a",
   "metadata": {},
   "outputs": [],
   "source": []
  },
  {
   "cell_type": "code",
   "execution_count": 40,
   "id": "88d1cfe1",
   "metadata": {},
   "outputs": [],
   "source": [
    "# # Example libpostal\n",
    "# from postal.parser import parse_address\n",
    "# from postal.expand import expand_address\n",
    "# db1_residences_parsed = sample_rows[['residence']]\n",
    "# db1_residences_parsed['residence'] = db1_residences_parsed['residence'].apply(\n",
    "#     lambda txt: dict([(v,k) for k,v in parse_address(txt)]))\n",
    "# pd.json_normalize(db1_residences_parsed['residence'])"
   ]
  },
  {
   "cell_type": "code",
   "execution_count": null,
   "id": "f39f2681",
   "metadata": {},
   "outputs": [],
   "source": []
  },
  {
   "cell_type": "code",
   "execution_count": null,
   "id": "ac4861db",
   "metadata": {},
   "outputs": [],
   "source": []
  },
  {
   "cell_type": "code",
   "execution_count": 41,
   "id": "e2945a7f",
   "metadata": {},
   "outputs": [],
   "source": [
    "import plotly.express as px\n",
    "fig = px.histogram(\n",
    "    df_row_matches['sim'],\n",
    "    color=df_row_matches['match_correct'],\n",
    "    barmode='stack'\n",
    ")\n",
    "fig.add_vline(x=THR, line_dash='dash')\n",
    "fig.update_layout(\n",
    "    legend_title_text='Match correct',\n",
    "    xaxis_title=\"Confidence\",\n",
    "    yaxis_title=\"Num matched elements\",\n",
    "    title='Error rate by confidence interval'\n",
    ")\n",
    "fig.write_html(dir_artifacts / 'error_rate_by_conf.html')"
   ]
  },
  {
   "cell_type": "code",
   "execution_count": 42,
   "id": "f6d421fa",
   "metadata": {},
   "outputs": [],
   "source": [
    "with mlflow.start_run():\n",
    "    for k in [\n",
    "        'NUM_TOKENS_KEPT_ADDR',\n",
    "        'P_NOISE_CHAR',\n",
    "        'ROW_COL_MISSING_OR_SWAPPED',\n",
    "        'P_ROW_COL_MISSING_OR_SWAPPED',\n",
    "        'FRAC_KEPT_ROWS_DB2',\n",
    "        'TFIDF_ANALYZER',\n",
    "        'TFIDF_NGRAM_LO',\n",
    "        'TFIDF_NGRAM_HI',\n",
    "        'TFIDF_MAX_DF',\n",
    "        'TFIDF_MIN_DF',\n",
    "        'TFIDF_MAX_FEATS',\n",
    "        'TFIDF_VOCAB',\n",
    "        'THR_CONFIDENCE_QUANTILE',\n",
    "        'THR',\n",
    "    ]:\n",
    "        mlflow.log_param(k, locals()[k])\n",
    "    \n",
    "    for k, v in d_metrics.items():\n",
    "        mlflow.log_metric(k, v)\n",
    "        \n",
    "    for k, v in clock.d.items():\n",
    "        mlflow.log_metric(k, v)\n",
    "    \n",
    "    mlflow.log_artifacts(dir_artifacts)"
   ]
  },
  {
   "cell_type": "code",
   "execution_count": null,
   "id": "73f49fa8",
   "metadata": {},
   "outputs": [],
   "source": []
  },
  {
   "cell_type": "code",
   "execution_count": null,
   "id": "08e38af4",
   "metadata": {},
   "outputs": [],
   "source": []
  },
  {
   "cell_type": "code",
   "execution_count": null,
   "id": "b2885640",
   "metadata": {},
   "outputs": [],
   "source": []
  }
 ],
 "metadata": {
  "celltoolbar": "Tags",
  "kernelspec": {
   "display_name": "Python 3 (ipykernel)",
   "language": "python",
   "name": "python3"
  },
  "language_info": {
   "codemirror_mode": {
    "name": "ipython",
    "version": 3
   },
   "file_extension": ".py",
   "mimetype": "text/x-python",
   "name": "python",
   "nbconvert_exporter": "python",
   "pygments_lexer": "ipython3",
   "version": "3.7.10"
  },
  "toc": {
   "base_numbering": 1,
   "nav_menu": {},
   "number_sections": true,
   "sideBar": true,
   "skip_h1_title": false,
   "title_cell": "Table of Contents",
   "title_sidebar": "Contents",
   "toc_cell": false,
   "toc_position": {},
   "toc_section_display": true,
   "toc_window_display": false
  }
 },
 "nbformat": 4,
 "nbformat_minor": 5
}
